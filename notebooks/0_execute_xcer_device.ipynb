{
 "cells": [
  {
   "cell_type": "markdown",
   "metadata": {},
   "source": [
    "#### Notebook for running X-CER experiments on IBM Quantum Platform Devices\n",
    "\n",
    "##### **Things to Check and Remember Before Running This Notebook**\n",
    "\n",
    "1. Do not use this notebook for analysis or for loading in circuits\n",
    "2. Make sure IBM Quantum token access is enabled.\n",
    "3. Ensure all imports (`xcer_funcs` especially) are imported\n",
    "4. Save circuits before, during, and after execution\n",
    "5. Do not use `trueq.Executor.block()`\n",
    "6. Set max_submissions high"
   ]
  },
  {
   "cell_type": "code",
   "execution_count": 2,
   "metadata": {},
   "outputs": [],
   "source": [
    "##### Imports #####\n",
    "# xcer_funcs contains functions for generating the X-CER circuits\n",
    "# We also want to import the Qiskit IBM Provider\n",
    "from xcer_funcs import generate_cer_circuits\n",
    "from datalogger import DataLogger\n",
    "\n",
    "from qiskit_ibm_provider import IBMProvider\n",
    "\n",
    "# Import numpy and trueq\n",
    "import numpy as np\n",
    "import trueq as tq\n",
    "\n",
    "import datetime\n",
    "import random"
   ]
  },
  {
   "cell_type": "markdown",
   "metadata": {},
   "source": [
    "**Picking an IBM Backend**\n",
    "\n",
    "We've been using:\n",
    "\n",
    "1. ibm_cairo\n",
    "2. ibm_sherbrooke"
   ]
  },
  {
   "cell_type": "code",
   "execution_count": 4,
   "metadata": {},
   "outputs": [],
   "source": [
    "provider = IBMProvider(instance=\"ibm-q-ncsu/nc-state/noiseanderror\")\n",
    "\n",
    "backend = provider.get_backend('ibm_sherbrooke')"
   ]
  },
  {
   "cell_type": "code",
   "execution_count": 7,
   "metadata": {},
   "outputs": [
    {
     "name": "stdout",
     "output_type": "stream",
     "text": [
      "ID for these simulations: 435128\n"
     ]
    }
   ],
   "source": [
    "# Generate a unique identifer for bookeeping purposes\n",
    "id = str(random.randint(0, 1000000))\n",
    "print(F\"ID for these simulations: {id}\")\n",
    "\n",
    "results_directory = F\"./devices/{backend.name}/{id}/\"\n",
    "\n",
    "dl = DataLogger(directory=results_directory, id=id)\n",
    "\n",
    "experiments_info = {\"id\": id, \n",
    "                    \"backend\": backend.name, \n",
    "                    \"date\": datetime.datetime.now().strftime(\"%Y-%m-%d\")}"
   ]
  },
  {
   "cell_type": "code",
   "execution_count": 8,
   "metadata": {},
   "outputs": [
    {
     "name": "stdout",
     "output_type": "stream",
     "text": [
      "Number of batches: 67\n",
      "Total number of CER circuits: 20250\n",
      "Hard cycle of interest:\n"
     ]
    }
   ],
   "source": [
    "# Define the parameters for the experiment\n",
    "\n",
    "# Using sequence lengths of 4, 8, 12 for coherent errors and cnot repetitions 4, 8, 12\n",
    "rep_len_tuples = [(4, 4), (8, 4), (12, 4), (4, 8), (8, 8), (12, 8), (4, 12),\n",
    "                  (8, 12), (12, 12), (1, 32), (3, 32), (5, 32), (1, 64), (3, 64), (5, 64)]\n",
    "\n",
    "# Define the hard cycle of interest\n",
    "# the cycle is a CNOT on qubits 0,1 and an identity gate on ancillary qubit 2\n",
    "cycle = tq.Cycle({(0, 1): tq.Gate.cx, 2: tq.Gate.id})\n",
    "\n",
    "# Generate the CER circuits\n",
    "# pass in the cycle, repetitions, and sequence_lengths\n",
    "cer_circuits = generate_cer_circuits(cycle, rep_len_tuples, n_circuits=450)\n",
    "\n",
    "# We can change the batch size here\n",
    "batch_size = 300\n",
    "num_batches = len(cer_circuits) // batch_size\n",
    "print(f\"Number of batches: {num_batches}\")\n",
    "print(F\"Total number of CER circuits: {len(cer_circuits)}\")\n",
    "\n",
    "# Draw our hard cycle of interest\n",
    "print(\"Hard cycle of interest:\")\n",
    "cycle_circ = tq.Circuit(cycles=[cycle])\n",
    "cycle_circ.draw()\n",
    "\n",
    "# Gather circuit info, save circuits to disk\n",
    "experiments_info['batch_size'] = batch_size\n",
    "experiments_info['num_batches'] = num_batches\n",
    "experiments_info['num_circuits'] = len(cer_circuits)\n",
    "experiments_info['rep_len_tuples'] = rep_len_tuples\n",
    "experiments_info['cycle'] = cycle.to_dict()\n",
    "\n",
    "# Save circuits before execution\n",
    "cer_circuits.save(f\"./devices/{backend.name}/{id}/unexecuted_cer_circuits.tq\")"
   ]
  },
  {
   "cell_type": "code",
   "execution_count": 9,
   "metadata": {},
   "outputs": [],
   "source": [
    "# Guadalupe physical qubits: 6-7 10 12 13\n",
    "# Cairo physical qubits: 17-18 21 23 24\n",
    "# sherbrooke physical qubits: 100 110 118 119 120\n",
    "relabels = {\"ibmq_guadalupe\": {0: 6, 1: 7, 2: 10, 3: 12, 4: 13},\n",
    "            \"ibm_cairo\": {0: 17, 1: 18, 2: 21, 3: 23, 4: 24},\n",
    "            \"ibm_sherbrooke\": {0: 100, 1: 110, 2: 118, 3: 119, 4: 120}}\n",
    "\n",
    "\n",
    "from trueq.compilation import Relabel\n",
    "relabel = Relabel(relabels[backend.name])\n",
    "cer_circuits = tq.compilation.Compiler([relabel]).compile(cer_circuits)\n",
    "\n",
    "rcal_circuits = tq.make_rcal(cer_circuits.labels)\n",
    "\n",
    "# save physical qubits mapping\n",
    "experiments_info['physical_qubits'] = [(key, value) for key, value in relabels[backend.name].items()]"
   ]
  },
  {
   "cell_type": "code",
   "execution_count": 10,
   "metadata": {},
   "outputs": [],
   "source": [
    "# Save experiments info\n",
    "dl.write_data(experiments_info)"
   ]
  },
  {
   "cell_type": "code",
   "execution_count": null,
   "metadata": {},
   "outputs": [],
   "source": [
    "batches = cer_circuits.batch(300, extra_circuits=rcal_circuits, sequencer=tq.sequencer.RIFFLER)"
   ]
  },
  {
   "cell_type": "code",
   "execution_count": null,
   "metadata": {},
   "outputs": [],
   "source": [
    "ex = tq.interface.Executor(cer_circuits, backend, filename=F\"../devices/{backend.name}/{id}/executing_circuits.tq\", n_shots=10000, max_submissions=100)"
   ]
  },
  {
   "cell_type": "code",
   "execution_count": null,
   "metadata": {},
   "outputs": [],
   "source": [
    "ex.circuits.save(F\"./devices/{backend.name}/{id}/executed_circuits.tq\")"
   ]
  }
 ],
 "metadata": {
  "kernelspec": {
   "display_name": "Python-3-8-2023",
   "language": "python",
   "name": "python3"
  },
  "language_info": {
   "codemirror_mode": {
    "name": "ipython",
    "version": 3
   },
   "file_extension": ".py",
   "mimetype": "text/x-python",
   "name": "python",
   "nbconvert_exporter": "python",
   "pygments_lexer": "ipython3",
   "version": "3.8.16"
  }
 },
 "nbformat": 4,
 "nbformat_minor": 2
}
