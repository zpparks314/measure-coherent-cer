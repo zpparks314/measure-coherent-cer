{
 "cells": [
  {
   "cell_type": "markdown",
   "metadata": {},
   "source": [
    "##### This notebook was used to re-run failed jobs on the IBM Quantum device: ibm_sherbrooke\n",
    "##### Date: 12/13/2023"
   ]
  },
  {
   "cell_type": "code",
   "execution_count": 2,
   "metadata": {},
   "outputs": [],
   "source": [
    "##### Imports #####\n",
    "# xcer_funcs contains functions for generating the X-CER circuits\n",
    "# We also want to import the Qiskit IBM Provider\n",
    "from xcer_funcs import generate_cer_circuits\n",
    "from datalogger import DataLogger\n",
    "\n",
    "from qiskit_ibm_provider import IBMProvider\n",
    "\n",
    "# Import numpy and trueq\n",
    "import numpy as np\n",
    "import trueq as tq\n",
    "\n",
    "import datetime\n",
    "import random"
   ]
  },
  {
   "cell_type": "code",
   "execution_count": 3,
   "metadata": {},
   "outputs": [],
   "source": [
    "provider = IBMProvider(instance=\"ibm-q-ncsu/nc-state/noiseanderror\")\n",
    "\n",
    "backend = provider.get_backend('ibm_sherbrooke')"
   ]
  },
  {
   "cell_type": "code",
   "execution_count": 4,
   "metadata": {},
   "outputs": [],
   "source": [
    "# id of directory with certain file\n",
    "\n",
    "id = \"897405\"\n",
    "cer_circuits = tq.load(f\"../devices/{backend.name}/{id}/restart3.tq\")"
   ]
  },
  {
   "cell_type": "code",
   "execution_count": 5,
   "metadata": {},
   "outputs": [
    {
     "data": {
      "text/html": [
       "\n",
       "\n",
       "\n",
       "<script>\n",
       "    if (trueq !== \"2.14.3\") {\n",
       "        var css = document.createElement(\"style\");\n",
       "        css.type = \"text/css\";\n",
       "        css.innerHTML = \"div.input,div.output_wrapper { z-index: auto;}.jp-OutputArea-output .tq-tooltip.tq-tooltip dl { width: unset;}.jp-OutputArea-output .tq-tooltip.tq-tooltip dt { display: flex; float: none;}.jp-RenderedHTMLCommon .tq-tooltip.tq-tooltip svg { max-width: unset; height: unset;}.tq-tooltip { background-color: #fff; border: 1px solid #333; border-radius: 2px; color: #000; display: none; font-size: 1em; font-weight: normal; line-height: normal; margin: 0px; overflow-wrap: normal; padding: 8px; position: fixed; text-align: left; z-index: 100;}.tq-tooltip.wrapped { max-width: 400px;}.tq-tooltip.tq-tooltip > dl > dd > ul { list-style-type: none; margin: 0px; padding: 0px;}.tq-tooltip.tq-tooltip > dl > dd > ul > li { list-style-type: none; margin: 0px 0px 0px 1em; padding: 0px;}.tq-tooltip.tq-tooltip dt { background: none !important; border-left: none !important; color: #134f6d !important; font-size: 1.1em; font-weight: bold; margin: 0px !important; padding: 0px;}.tq-tooltip.tq-tooltip dl { display: inline-block; margin: 0px; vertical-align: top;}.tq-tooltip.tq-tooltip dd { margin: 0px 10px 0px 0px;}.tq-tooltip canvas { outline: black 1px solid;}.tq-table tr,.tq-table.tq-table tr:nth-child(odd) { background: transparent; text-align: right;}.tq-table td { padding: 0px 3px 3px 3px; white-space: nowrap;}.tq-table td:hover { background-color: #ebf8ff;}.tq-table.tq-table tr:hover { background-color: #f5f5f5;}.tq-table td { min-width: 2em;}.tq-highlight { background-color: #f2f6ff !important;}.tq-highlight p { margin: 0px;}.tq-right-border td { border-right: 1px solid black;}.tq-trusted { display: none;}.tq-executor { line-height: 1; display: flex;}.tq-executor .indicator { background-color: #000000; height: 1em; width: 1em;}.tq-executor .indicator.cancelled { background-color: #800000;}.tq-executor .indicator.done { background-color: #90ee90;}.tq-executor .indicator.error { background-color: #ff0000;}.tq-executor .indicator.initializing { background-color: #a9a9a9;}.tq-executor .indicator.queued { background-color: #add8e6;}.tq-executor .indicator.running { background-color: #008000;}.tq-executor .indicator.validating { background-color: #ffa500;}.tq-executor .index { padding-left: 1em; text-align: right;}.tq-executor .status { min-width: 6em; padding-left: 1em;}.tq-executor .message { padding-left: 1em;}\";\n",
       "        document.head.appendChild(css);\n",
       "        var polyfill = document.createElement(\"script\");\n",
       "        polyfill.src = \"https://polyfill.io/v3/polyfill.min.js?features=es6\";\n",
       "        document.body.appendChild(polyfill);\n",
       "        var mathjax = document.createElement(\"script\");\n",
       "        mathjax.id = \"MathJax-script\";\n",
       "        mathjax.async = true;\n",
       "        mathjax.src = \"https://cdn.jsdelivr.net/npm/mathjax@3/es5/tex-mml-chtml.js\";\n",
       "        mathjax.innerHTML = \"MathJax = {tex2jax: {inlineMath: [['$', '$'], ['\\\\(', '\\\\)']]}};\";\n",
       "        document.body.appendChild(mathjax);\n",
       "        var trueq = \"2.14.3\";\n",
       "      }\n",
       "</script>\n",
       "<div class=\"tq-trusted\">True-Q formatting will not be loaded without trusting this\n",
       "notebook or rerunning the affected cells. Notebooks can be marked as trusted by clicking\n",
       "\"File -> Trust Notebook\".</div>\n"
      ]
     },
     "metadata": {},
     "output_type": "display_data"
    },
    {
     "data": {
      "application/vnd.jupyter.widget-view+json": {
       "model_id": "51a804c815fb40fa805e82670db6d714",
       "version_major": 2,
       "version_minor": 0
      },
      "text/plain": [
       "HTML(value='')"
      ]
     },
     "metadata": {},
     "output_type": "display_data"
    },
    {
     "data": {
      "application/vnd.jupyter.widget-view+json": {
       "model_id": "8249496fda9f4832aba912e72b66ac3e",
       "version_major": 2,
       "version_minor": 0
      },
      "text/plain": [
       "HTML(value='')"
      ]
     },
     "metadata": {},
     "output_type": "display_data"
    },
    {
     "data": {
      "application/vnd.jupyter.widget-view+json": {
       "model_id": "4a29b24e23e8493a9b7a4dd94e5fee7a",
       "version_major": 2,
       "version_minor": 0
      },
      "text/plain": [
       "HTML(value='')"
      ]
     },
     "metadata": {},
     "output_type": "display_data"
    },
    {
     "data": {
      "application/vnd.jupyter.widget-view+json": {
       "model_id": "5ecaba75df4840f181c5d9a542210fe3",
       "version_major": 2,
       "version_minor": 0
      },
      "text/plain": [
       "HTML(value='')"
      ]
     },
     "metadata": {},
     "output_type": "display_data"
    },
    {
     "data": {
      "application/vnd.jupyter.widget-view+json": {
       "model_id": "8325c6e11d9844189fe863cd1aae2552",
       "version_major": 2,
       "version_minor": 0
      },
      "text/plain": [
       "HTML(value='')"
      ]
     },
     "metadata": {},
     "output_type": "display_data"
    },
    {
     "data": {
      "application/vnd.jupyter.widget-view+json": {
       "model_id": "ae93680ccaa0440aaf0e70e0fb1120c7",
       "version_major": 2,
       "version_minor": 0
      },
      "text/plain": [
       "HTML(value='')"
      ]
     },
     "metadata": {},
     "output_type": "display_data"
    },
    {
     "data": {
      "application/vnd.jupyter.widget-view+json": {
       "model_id": "195fef3be4324888961f7c69e9f72283",
       "version_major": 2,
       "version_minor": 0
      },
      "text/plain": [
       "HTML(value='')"
      ]
     },
     "metadata": {},
     "output_type": "display_data"
    },
    {
     "data": {
      "application/vnd.jupyter.widget-view+json": {
       "model_id": "3a0801810d6543e2b66b6d763ea44963",
       "version_major": 2,
       "version_minor": 0
      },
      "text/plain": [
       "HTML(value='')"
      ]
     },
     "metadata": {},
     "output_type": "display_data"
    },
    {
     "data": {
      "application/vnd.jupyter.widget-view+json": {
       "model_id": "0e16de1309b04a51907a974f80909b24",
       "version_major": 2,
       "version_minor": 0
      },
      "text/plain": [
       "HTML(value='')"
      ]
     },
     "metadata": {},
     "output_type": "display_data"
    },
    {
     "data": {
      "application/vnd.jupyter.widget-view+json": {
       "model_id": "191e6cd434ff46978d28ce206f5c13a8",
       "version_major": 2,
       "version_minor": 0
      },
      "text/plain": [
       "HTML(value='')"
      ]
     },
     "metadata": {},
     "output_type": "display_data"
    },
    {
     "data": {
      "application/vnd.jupyter.widget-view+json": {
       "model_id": "b63b866818fd4cad8d2a19a118b419cc",
       "version_major": 2,
       "version_minor": 0
      },
      "text/plain": [
       "HTML(value='')"
      ]
     },
     "metadata": {},
     "output_type": "display_data"
    },
    {
     "data": {
      "application/vnd.jupyter.widget-view+json": {
       "model_id": "5c77a999f7b14b3f8c30981c9c311c9c",
       "version_major": 2,
       "version_minor": 0
      },
      "text/plain": [
       "HTML(value='')"
      ]
     },
     "metadata": {},
     "output_type": "display_data"
    },
    {
     "data": {
      "application/vnd.jupyter.widget-view+json": {
       "model_id": "20fa2923d6634418a6ad7660c8f3af7f",
       "version_major": 2,
       "version_minor": 0
      },
      "text/plain": [
       "HTML(value='')"
      ]
     },
     "metadata": {},
     "output_type": "display_data"
    },
    {
     "data": {
      "application/vnd.jupyter.widget-view+json": {
       "model_id": "c147428e5b714561a0cd67b58d424f33",
       "version_major": 2,
       "version_minor": 0
      },
      "text/plain": [
       "HTML(value='')"
      ]
     },
     "metadata": {},
     "output_type": "display_data"
    },
    {
     "data": {
      "application/vnd.jupyter.widget-view+json": {
       "model_id": "ed98ab9c1d56406888066a55217ec582",
       "version_major": 2,
       "version_minor": 0
      },
      "text/plain": [
       "HTML(value='')"
      ]
     },
     "metadata": {},
     "output_type": "display_data"
    },
    {
     "data": {
      "application/vnd.jupyter.widget-view+json": {
       "model_id": "2d8eb086a5134f878679815cd4fba94c",
       "version_major": 2,
       "version_minor": 0
      },
      "text/plain": [
       "HTML(value='')"
      ]
     },
     "metadata": {},
     "output_type": "display_data"
    },
    {
     "data": {
      "application/vnd.jupyter.widget-view+json": {
       "model_id": "d0c2e4e591034eceb734ce7aae6ead45",
       "version_major": 2,
       "version_minor": 0
      },
      "text/plain": [
       "HTML(value='')"
      ]
     },
     "metadata": {},
     "output_type": "display_data"
    },
    {
     "data": {
      "application/vnd.jupyter.widget-view+json": {
       "model_id": "0bc0fd130bfa499f8665a55f7d1b42fc",
       "version_major": 2,
       "version_minor": 0
      },
      "text/plain": [
       "HTML(value='')"
      ]
     },
     "metadata": {},
     "output_type": "display_data"
    },
    {
     "data": {
      "application/vnd.jupyter.widget-view+json": {
       "model_id": "3b98eb0effac492c9cb9204f4180b171",
       "version_major": 2,
       "version_minor": 0
      },
      "text/plain": [
       "HTML(value='')"
      ]
     },
     "metadata": {},
     "output_type": "display_data"
    },
    {
     "data": {
      "application/vnd.jupyter.widget-view+json": {
       "model_id": "a3a3c61519404413824271dbbb9b88f5",
       "version_major": 2,
       "version_minor": 0
      },
      "text/plain": [
       "HTML(value='')"
      ]
     },
     "metadata": {},
     "output_type": "display_data"
    },
    {
     "data": {
      "application/vnd.jupyter.widget-view+json": {
       "model_id": "6b0376226c604017acd93bfaf9891f9e",
       "version_major": 2,
       "version_minor": 0
      },
      "text/plain": [
       "HTML(value='')"
      ]
     },
     "metadata": {},
     "output_type": "display_data"
    },
    {
     "data": {
      "application/vnd.jupyter.widget-view+json": {
       "model_id": "f15328f5e2cd469f99a639c2cfb876c7",
       "version_major": 2,
       "version_minor": 0
      },
      "text/plain": [
       "HTML(value='')"
      ]
     },
     "metadata": {},
     "output_type": "display_data"
    },
    {
     "data": {
      "application/vnd.jupyter.widget-view+json": {
       "model_id": "757a1328805547d2b4414f8015f5ee5c",
       "version_major": 2,
       "version_minor": 0
      },
      "text/plain": [
       "HTML(value='')"
      ]
     },
     "metadata": {},
     "output_type": "display_data"
    },
    {
     "data": {
      "application/vnd.jupyter.widget-view+json": {
       "model_id": "8cea079c2cf14b539554e9d3ff390c2b",
       "version_major": 2,
       "version_minor": 0
      },
      "text/plain": [
       "HTML(value='')"
      ]
     },
     "metadata": {},
     "output_type": "display_data"
    },
    {
     "data": {
      "application/vnd.jupyter.widget-view+json": {
       "model_id": "dc598796b491408c8f1889822a7b0349",
       "version_major": 2,
       "version_minor": 0
      },
      "text/plain": [
       "HTML(value='')"
      ]
     },
     "metadata": {},
     "output_type": "display_data"
    },
    {
     "data": {
      "application/vnd.jupyter.widget-view+json": {
       "model_id": "7d052ee7530a4fb6a1e86410e0898d5f",
       "version_major": 2,
       "version_minor": 0
      },
      "text/plain": [
       "HTML(value='')"
      ]
     },
     "metadata": {},
     "output_type": "display_data"
    },
    {
     "data": {
      "application/vnd.jupyter.widget-view+json": {
       "model_id": "10305837091b44a099ec96f246856fdb",
       "version_major": 2,
       "version_minor": 0
      },
      "text/plain": [
       "HTML(value='')"
      ]
     },
     "metadata": {},
     "output_type": "display_data"
    },
    {
     "data": {
      "application/vnd.jupyter.widget-view+json": {
       "model_id": "c68148ce2a9e4304bb42f0d764e483d7",
       "version_major": 2,
       "version_minor": 0
      },
      "text/plain": [
       "HTML(value='')"
      ]
     },
     "metadata": {},
     "output_type": "display_data"
    },
    {
     "data": {
      "application/vnd.jupyter.widget-view+json": {
       "model_id": "a58eeec1c4e24b48a6820ced5ab64098",
       "version_major": 2,
       "version_minor": 0
      },
      "text/plain": [
       "HTML(value='')"
      ]
     },
     "metadata": {},
     "output_type": "display_data"
    },
    {
     "data": {
      "application/vnd.jupyter.widget-view+json": {
       "model_id": "8f1cd823276947ff98693d6acef5acff",
       "version_major": 2,
       "version_minor": 0
      },
      "text/plain": [
       "HTML(value='')"
      ]
     },
     "metadata": {},
     "output_type": "display_data"
    },
    {
     "data": {
      "application/vnd.jupyter.widget-view+json": {
       "model_id": "017a52d252a34b1c84ab13434bdbd0e2",
       "version_major": 2,
       "version_minor": 0
      },
      "text/plain": [
       "HTML(value='')"
      ]
     },
     "metadata": {},
     "output_type": "display_data"
    },
    {
     "data": {
      "application/vnd.jupyter.widget-view+json": {
       "model_id": "a386658c6c4c487cac9c3717ff20d5dc",
       "version_major": 2,
       "version_minor": 0
      },
      "text/plain": [
       "HTML(value='')"
      ]
     },
     "metadata": {},
     "output_type": "display_data"
    },
    {
     "data": {
      "application/vnd.jupyter.widget-view+json": {
       "model_id": "fdbaa5f575e64537bc46ea23a0897a32",
       "version_major": 2,
       "version_minor": 0
      },
      "text/plain": [
       "HTML(value='')"
      ]
     },
     "metadata": {},
     "output_type": "display_data"
    },
    {
     "data": {
      "application/vnd.jupyter.widget-view+json": {
       "model_id": "0fb704ddd6ca49be91ee08bc58fad78b",
       "version_major": 2,
       "version_minor": 0
      },
      "text/plain": [
       "HTML(value='')"
      ]
     },
     "metadata": {},
     "output_type": "display_data"
    },
    {
     "data": {
      "application/vnd.jupyter.widget-view+json": {
       "model_id": "35d85c4bb3414c7895bbd46e6855f171",
       "version_major": 2,
       "version_minor": 0
      },
      "text/plain": [
       "HTML(value='')"
      ]
     },
     "metadata": {},
     "output_type": "display_data"
    },
    {
     "data": {
      "application/vnd.jupyter.widget-view+json": {
       "model_id": "d0e2061f4b8149b1a604fb111c3f9d98",
       "version_major": 2,
       "version_minor": 0
      },
      "text/plain": [
       "HTML(value='')"
      ]
     },
     "metadata": {},
     "output_type": "display_data"
    },
    {
     "data": {
      "application/vnd.jupyter.widget-view+json": {
       "model_id": "b0e99cff80fd4e2a85028e3eb4ffc593",
       "version_major": 2,
       "version_minor": 0
      },
      "text/plain": [
       "HTML(value='')"
      ]
     },
     "metadata": {},
     "output_type": "display_data"
    },
    {
     "data": {
      "application/vnd.jupyter.widget-view+json": {
       "model_id": "3101c5e4445d4dc3abc263511be3d7d2",
       "version_major": 2,
       "version_minor": 0
      },
      "text/plain": [
       "HTML(value='')"
      ]
     },
     "metadata": {},
     "output_type": "display_data"
    },
    {
     "data": {
      "application/vnd.jupyter.widget-view+json": {
       "model_id": "cb75cf7f3e8645c884801d01ad512c34",
       "version_major": 2,
       "version_minor": 0
      },
      "text/plain": [
       "HTML(value='')"
      ]
     },
     "metadata": {},
     "output_type": "display_data"
    },
    {
     "data": {
      "application/vnd.jupyter.widget-view+json": {
       "model_id": "8edf0f4835464f26b957d7097af5a27d",
       "version_major": 2,
       "version_minor": 0
      },
      "text/plain": [
       "HTML(value='')"
      ]
     },
     "metadata": {},
     "output_type": "display_data"
    },
    {
     "data": {
      "application/vnd.jupyter.widget-view+json": {
       "model_id": "8c8bc23e6271434cace418d3fcf4143f",
       "version_major": 2,
       "version_minor": 0
      },
      "text/plain": [
       "HTML(value='')"
      ]
     },
     "metadata": {},
     "output_type": "display_data"
    },
    {
     "data": {
      "application/vnd.jupyter.widget-view+json": {
       "model_id": "458f065b20fb4ae1a55324a320a3df01",
       "version_major": 2,
       "version_minor": 0
      },
      "text/plain": [
       "HTML(value='')"
      ]
     },
     "metadata": {},
     "output_type": "display_data"
    },
    {
     "data": {
      "application/vnd.jupyter.widget-view+json": {
       "model_id": "8b6a071ff2f64e77a3a7bd291aacd639",
       "version_major": 2,
       "version_minor": 0
      },
      "text/plain": [
       "HTML(value='')"
      ]
     },
     "metadata": {},
     "output_type": "display_data"
    },
    {
     "data": {
      "application/vnd.jupyter.widget-view+json": {
       "model_id": "448b303dc2c44b0ba52c62224b5db7da",
       "version_major": 2,
       "version_minor": 0
      },
      "text/plain": [
       "HTML(value='')"
      ]
     },
     "metadata": {},
     "output_type": "display_data"
    },
    {
     "data": {
      "application/vnd.jupyter.widget-view+json": {
       "model_id": "08c20bb073604dd4a311c2eda4f2ce21",
       "version_major": 2,
       "version_minor": 0
      },
      "text/plain": [
       "HTML(value='')"
      ]
     },
     "metadata": {},
     "output_type": "display_data"
    },
    {
     "data": {
      "application/vnd.jupyter.widget-view+json": {
       "model_id": "6277b81bad2f4ae9b625da5065a42412",
       "version_major": 2,
       "version_minor": 0
      },
      "text/plain": [
       "HTML(value='')"
      ]
     },
     "metadata": {},
     "output_type": "display_data"
    },
    {
     "data": {
      "application/vnd.jupyter.widget-view+json": {
       "model_id": "5103e105c7f94de4bd61943be98f6166",
       "version_major": 2,
       "version_minor": 0
      },
      "text/plain": [
       "HTML(value='')"
      ]
     },
     "metadata": {},
     "output_type": "display_data"
    },
    {
     "data": {
      "application/vnd.jupyter.widget-view+json": {
       "model_id": "e5b9e9d4051145249d14f3a231a2effd",
       "version_major": 2,
       "version_minor": 0
      },
      "text/plain": [
       "HTML(value='')"
      ]
     },
     "metadata": {},
     "output_type": "display_data"
    },
    {
     "data": {
      "application/vnd.jupyter.widget-view+json": {
       "model_id": "b907b3bc682344cea6256e5c42d60637",
       "version_major": 2,
       "version_minor": 0
      },
      "text/plain": [
       "HTML(value='')"
      ]
     },
     "metadata": {},
     "output_type": "display_data"
    },
    {
     "data": {
      "application/vnd.jupyter.widget-view+json": {
       "model_id": "c5bc2c433a504ae794b7b7e09822a1ca",
       "version_major": 2,
       "version_minor": 0
      },
      "text/plain": [
       "HTML(value='')"
      ]
     },
     "metadata": {},
     "output_type": "display_data"
    },
    {
     "data": {
      "application/vnd.jupyter.widget-view+json": {
       "model_id": "1f6e66461a1547cbbce524a41a1b7e13",
       "version_major": 2,
       "version_minor": 0
      },
      "text/plain": [
       "HTML(value='')"
      ]
     },
     "metadata": {},
     "output_type": "display_data"
    },
    {
     "data": {
      "application/vnd.jupyter.widget-view+json": {
       "model_id": "839ed11eadf34e48917ada7e8f451d97",
       "version_major": 2,
       "version_minor": 0
      },
      "text/plain": [
       "HTML(value='')"
      ]
     },
     "metadata": {},
     "output_type": "display_data"
    },
    {
     "data": {
      "application/vnd.jupyter.widget-view+json": {
       "model_id": "93af2bfd5c574a9a9574fec0de59177c",
       "version_major": 2,
       "version_minor": 0
      },
      "text/plain": [
       "HTML(value='')"
      ]
     },
     "metadata": {},
     "output_type": "display_data"
    },
    {
     "data": {
      "application/vnd.jupyter.widget-view+json": {
       "model_id": "2414b2cc841b4b9ea36f16fff4b7dbf1",
       "version_major": 2,
       "version_minor": 0
      },
      "text/plain": [
       "HTML(value='')"
      ]
     },
     "metadata": {},
     "output_type": "display_data"
    },
    {
     "data": {
      "application/vnd.jupyter.widget-view+json": {
       "model_id": "b7cf988b8c504711b30c87ca73855aa6",
       "version_major": 2,
       "version_minor": 0
      },
      "text/plain": [
       "HTML(value='')"
      ]
     },
     "metadata": {},
     "output_type": "display_data"
    },
    {
     "data": {
      "application/vnd.jupyter.widget-view+json": {
       "model_id": "83f122df593f40158c97839daa553305",
       "version_major": 2,
       "version_minor": 0
      },
      "text/plain": [
       "HTML(value='')"
      ]
     },
     "metadata": {},
     "output_type": "display_data"
    },
    {
     "data": {
      "application/vnd.jupyter.widget-view+json": {
       "model_id": "518db22415df44398aa6c46cd2de8eb4",
       "version_major": 2,
       "version_minor": 0
      },
      "text/plain": [
       "HTML(value='')"
      ]
     },
     "metadata": {},
     "output_type": "display_data"
    },
    {
     "data": {
      "application/vnd.jupyter.widget-view+json": {
       "model_id": "7044cefd3657409890ca94ac33713cc5",
       "version_major": 2,
       "version_minor": 0
      },
      "text/plain": [
       "HTML(value='')"
      ]
     },
     "metadata": {},
     "output_type": "display_data"
    },
    {
     "data": {
      "application/vnd.jupyter.widget-view+json": {
       "model_id": "318a4be31442414eae32517daf8f5a21",
       "version_major": 2,
       "version_minor": 0
      },
      "text/plain": [
       "HTML(value='')"
      ]
     },
     "metadata": {},
     "output_type": "display_data"
    },
    {
     "data": {
      "application/vnd.jupyter.widget-view+json": {
       "model_id": "c82643b060b446bdbefcc8582e43286c",
       "version_major": 2,
       "version_minor": 0
      },
      "text/plain": [
       "HTML(value='')"
      ]
     },
     "metadata": {},
     "output_type": "display_data"
    },
    {
     "data": {
      "application/vnd.jupyter.widget-view+json": {
       "model_id": "249dd7b07d1e4eeb9f762a9e103800c2",
       "version_major": 2,
       "version_minor": 0
      },
      "text/plain": [
       "HTML(value='')"
      ]
     },
     "metadata": {},
     "output_type": "display_data"
    },
    {
     "data": {
      "application/vnd.jupyter.widget-view+json": {
       "model_id": "de3fb379cda946f8a2463f31a94e5ef6",
       "version_major": 2,
       "version_minor": 0
      },
      "text/plain": [
       "HTML(value='')"
      ]
     },
     "metadata": {},
     "output_type": "display_data"
    },
    {
     "data": {
      "application/vnd.jupyter.widget-view+json": {
       "model_id": "183059d0d2c94297903ec6d1ae976d30",
       "version_major": 2,
       "version_minor": 0
      },
      "text/plain": [
       "HTML(value='')"
      ]
     },
     "metadata": {},
     "output_type": "display_data"
    },
    {
     "data": {
      "application/vnd.jupyter.widget-view+json": {
       "model_id": "ce820af97cc742e99683d7b478a976fa",
       "version_major": 2,
       "version_minor": 0
      },
      "text/plain": [
       "HTML(value='')"
      ]
     },
     "metadata": {},
     "output_type": "display_data"
    },
    {
     "data": {
      "application/vnd.jupyter.widget-view+json": {
       "model_id": "ab1f549091024f88a82d718fceb740b2",
       "version_major": 2,
       "version_minor": 0
      },
      "text/plain": [
       "HTML(value='')"
      ]
     },
     "metadata": {},
     "output_type": "display_data"
    },
    {
     "data": {
      "application/vnd.jupyter.widget-view+json": {
       "model_id": "504aee55d1a54021ac5de4ae505d5ff6",
       "version_major": 2,
       "version_minor": 0
      },
      "text/plain": [
       "HTML(value='')"
      ]
     },
     "metadata": {},
     "output_type": "display_data"
    },
    {
     "data": {
      "application/vnd.jupyter.widget-view+json": {
       "model_id": "1291432a4da0473ea49df7af4161d3db",
       "version_major": 2,
       "version_minor": 0
      },
      "text/plain": [
       "HTML(value='')"
      ]
     },
     "metadata": {},
     "output_type": "display_data"
    },
    {
     "data": {
      "application/vnd.jupyter.widget-view+json": {
       "model_id": "e2d1b846e12e407dbda97c8ca77b6d59",
       "version_major": 2,
       "version_minor": 0
      },
      "text/plain": [
       "HTML(value='')"
      ]
     },
     "metadata": {},
     "output_type": "display_data"
    },
    {
     "data": {
      "application/vnd.jupyter.widget-view+json": {
       "model_id": "ccc65f682c924a5e9135ed52230b6e9a",
       "version_major": 2,
       "version_minor": 0
      },
      "text/plain": [
       "HTML(value='')"
      ]
     },
     "metadata": {},
     "output_type": "display_data"
    },
    {
     "data": {
      "application/vnd.jupyter.widget-view+json": {
       "model_id": "7e0284982fee439a82361321121283ee",
       "version_major": 2,
       "version_minor": 0
      },
      "text/plain": [
       "HBox(children=(Button(button_style='danger', description='Cancel', disabled=True, layout=Layout(width='9em'), …"
      ]
     },
     "metadata": {},
     "output_type": "display_data"
    },
    {
     "name": "stderr",
     "output_type": "stream",
     "text": [
      "Warning: The backend ibm_sherbrooke is currently paused.\n",
      "         (c:\\Users\\zpparks\\Anaconda3\\envs\\Python-3-8-2023\\lib\\site-packages\\qiskit_ibm_provider\\ibm_backend.py:468)\n",
      "Warning: Support for the 'id' instruction has been deprecated from IBM hardware backends. Any 'id' instructions will be replaced with their equivalent 'delay' instruction. Please use the 'delay' instruction instead.\n",
      "         (c:\\Users\\zpparks\\Anaconda3\\envs\\Python-3-8-2023\\lib\\site-packages\\trueq\\interface\\qiskit_submission.py:869)\n",
      "BatchExecutor - Exception - 55 - 'HTTPSConnectionPool(host=\\'api.quantum.ibm.com\\', port=443): Max retries exceeded with url: /runtime/jobs/cnx1wzksyp800084fxgg/metrics (Caused by NameResolutionError(\"<urllib3.connection.HTTPSConnection object at 0x000001CB5DD67B20>: Failed to resolve \\'api.quantum.ibm.com\\' ([Errno 11001] getaddrinfo failed)\"))'\n",
      "BatchExecutor - Exception - 56 - 'HTTPSConnectionPool(host=\\'api.quantum.ibm.com\\', port=443): Max retries exceeded with url: /runtime/backends/ibm_sherbrooke/status (Caused by NameResolutionError(\"<urllib3.connection.HTTPSConnection object at 0x000001CB52B30760>: Failed to resolve \\'api.quantum.ibm.com\\' ([Errno 11001] getaddrinfo failed)\"))'\n",
      "BatchExecutor - Exception - 57 - 'HTTPSConnectionPool(host=\\'api.quantum.ibm.com\\', port=443): Max retries exceeded with url: /runtime/backends/ibm_sherbrooke/status (Caused by NameResolutionError(\"<urllib3.connection.HTTPSConnection object at 0x000001CB64C7AD00>: Failed to resolve \\'api.quantum.ibm.com\\' ([Errno 11001] getaddrinfo failed)\"))'\n",
      "BatchExecutor - Exception - 58 - 'HTTPSConnectionPool(host=\\'api.quantum.ibm.com\\', port=443): Max retries exceeded with url: /runtime/backends/ibm_sherbrooke/status (Caused by NameResolutionError(\"<urllib3.connection.HTTPSConnection object at 0x000001CB548519A0>: Failed to resolve \\'api.quantum.ibm.com\\' ([Errno 11001] getaddrinfo failed)\"))'\n",
      "BatchExecutor - Exception - 59 - 'HTTPSConnectionPool(host=\\'api.quantum.ibm.com\\', port=443): Max retries exceeded with url: /runtime/backends/ibm_sherbrooke/status (Caused by NameResolutionError(\"<urllib3.connection.HTTPSConnection object at 0x000001CB4570F2E0>: Failed to resolve \\'api.quantum.ibm.com\\' ([Errno 11001] getaddrinfo failed)\"))'\n",
      "BatchExecutor - Exception - 60 - 'HTTPSConnectionPool(host=\\'api.quantum.ibm.com\\', port=443): Max retries exceeded with url: /runtime/backends/ibm_sherbrooke/status (Caused by NameResolutionError(\"<urllib3.connection.HTTPSConnection object at 0x000001CB4B20EA60>: Failed to resolve \\'api.quantum.ibm.com\\' ([Errno 11001] getaddrinfo failed)\"))'\n",
      "BatchExecutor - Exception - 61 - 'HTTPSConnectionPool(host=\\'api.quantum.ibm.com\\', port=443): Max retries exceeded with url: /runtime/backends/ibm_sherbrooke/status (Caused by NameResolutionError(\"<urllib3.connection.HTTPSConnection object at 0x000001CB86AE8E20>: Failed to resolve \\'api.quantum.ibm.com\\' ([Errno 11001] getaddrinfo failed)\"))'\n",
      "BatchExecutor - Exception - 62 - 'HTTPSConnectionPool(host=\\'api.quantum.ibm.com\\', port=443): Max retries exceeded with url: /runtime/backends/ibm_sherbrooke/status (Caused by NameResolutionError(\"<urllib3.connection.HTTPSConnection object at 0x000001CB5B31C7C0>: Failed to resolve \\'api.quantum.ibm.com\\' ([Errno 11001] getaddrinfo failed)\"))'\n",
      "BatchExecutor - Exception - 63 - 'HTTPSConnectionPool(host=\\'api.quantum.ibm.com\\', port=443): Max retries exceeded with url: /runtime/backends/ibm_sherbrooke/status (Caused by NameResolutionError(\"<urllib3.connection.HTTPSConnection object at 0x000001CB6BA8DA90>: Failed to resolve \\'api.quantum.ibm.com\\' ([Errno 11001] getaddrinfo failed)\"))'\n",
      "BatchExecutor - Exception - 64 - 'HTTPSConnectionPool(host=\\'api.quantum.ibm.com\\', port=443): Max retries exceeded with url: /runtime/backends/ibm_sherbrooke/status (Caused by NameResolutionError(\"<urllib3.connection.HTTPSConnection object at 0x000001CB3A5B9D90>: Failed to resolve \\'api.quantum.ibm.com\\' ([Errno 11001] getaddrinfo failed)\"))'\n",
      "BatchExecutor - Exception - 65 - 'HTTPSConnectionPool(host=\\'api.quantum.ibm.com\\', port=443): Max retries exceeded with url: /runtime/backends/ibm_sherbrooke/status (Caused by NameResolutionError(\"<urllib3.connection.HTTPSConnection object at 0x000001CB64C7ACD0>: Failed to resolve \\'api.quantum.ibm.com\\' ([Errno 11001] getaddrinfo failed)\"))'\n",
      "BatchExecutor - Exception - 66 - 'HTTPSConnectionPool(host=\\'api.quantum.ibm.com\\', port=443): Max retries exceeded with url: /runtime/backends/ibm_sherbrooke/status (Caused by NameResolutionError(\"<urllib3.connection.HTTPSConnection object at 0x000001CB560DA430>: Failed to resolve \\'api.quantum.ibm.com\\' ([Errno 11001] getaddrinfo failed)\"))'\n",
      "BatchExecutor - Exception - 67 - 'HTTPSConnectionPool(host=\\'api.quantum.ibm.com\\', port=443): Max retries exceeded with url: /runtime/backends/ibm_sherbrooke/status (Caused by NameResolutionError(\"<urllib3.connection.HTTPSConnection object at 0x000001CB45471D90>: Failed to resolve \\'api.quantum.ibm.com\\' ([Errno 11001] getaddrinfo failed)\"))'\n",
      "BatchExecutor - Exception - 47 - 'HTTPSConnectionPool(host=\\'api.quantum.ibm.com\\', port=443): Max retries exceeded with url: /runtime/backends/ibm_sherbrooke/status (Caused by NameResolutionError(\"<urllib3.connection.HTTPSConnection object at 0x000001CB9898CF40>: Failed to resolve \\'api.quantum.ibm.com\\' ([Errno 11001] getaddrinfo failed)\"))'\n",
      "BatchExecutor - Exception - 48 - 'HTTPSConnectionPool(host=\\'api.quantum.ibm.com\\', port=443): Max retries exceeded with url: /runtime/backends/ibm_sherbrooke/status (Caused by NameResolutionError(\"<urllib3.connection.HTTPSConnection object at 0x000001CB3E8C9F40>: Failed to resolve \\'api.quantum.ibm.com\\' ([Errno 11001] getaddrinfo failed)\"))'\n",
      "BatchExecutor - Exception - 49 - 'HTTPSConnectionPool(host=\\'api.quantum.ibm.com\\', port=443): Max retries exceeded with url: /runtime/backends/ibm_sherbrooke/status (Caused by NameResolutionError(\"<urllib3.connection.HTTPSConnection object at 0x000001CB408F5130>: Failed to resolve \\'api.quantum.ibm.com\\' ([Errno 11001] getaddrinfo failed)\"))'\n",
      "BatchExecutor - Exception - 50 - 'HTTPSConnectionPool(host=\\'api.quantum.ibm.com\\', port=443): Max retries exceeded with url: /runtime/backends/ibm_sherbrooke/status (Caused by NameResolutionError(\"<urllib3.connection.HTTPSConnection object at 0x000001CB6BA8DA90>: Failed to resolve \\'api.quantum.ibm.com\\' ([Errno 11001] getaddrinfo failed)\"))'\n",
      "BatchExecutor - Exception - 51 - 'HTTPSConnectionPool(host=\\'api.quantum.ibm.com\\', port=443): Max retries exceeded with url: /runtime/backends/ibm_sherbrooke/status (Caused by NameResolutionError(\"<urllib3.connection.HTTPSConnection object at 0x000001CB5B4F1040>: Failed to resolve \\'api.quantum.ibm.com\\' ([Errno 11001] getaddrinfo failed)\"))'\n",
      "BatchExecutor - Exception - 52 - 'HTTPSConnectionPool(host=\\'api.quantum.ibm.com\\', port=443): Max retries exceeded with url: /runtime/backends/ibm_sherbrooke/status (Caused by NameResolutionError(\"<urllib3.connection.HTTPSConnection object at 0x000001CB513F2430>: Failed to resolve \\'api.quantum.ibm.com\\' ([Errno 11001] getaddrinfo failed)\"))'\n",
      "BatchExecutor - Exception - 53 - 'HTTPSConnectionPool(host=\\'api.quantum.ibm.com\\', port=443): Max retries exceeded with url: /runtime/backends/ibm_sherbrooke/status (Caused by NameResolutionError(\"<urllib3.connection.HTTPSConnection object at 0x000001C88A5076A0>: Failed to resolve \\'api.quantum.ibm.com\\' ([Errno 11001] getaddrinfo failed)\"))'\n",
      "BatchExecutor - Exception - 54 - 'HTTPSConnectionPool(host=\\'api.quantum.ibm.com\\', port=443): Max retries exceeded with url: /runtime/backends/ibm_sherbrooke/status (Caused by NameResolutionError(\"<urllib3.connection.HTTPSConnection object at 0x000001CB4FF25790>: Failed to resolve \\'api.quantum.ibm.com\\' ([Errno 11001] getaddrinfo failed)\"))'\n"
     ]
    }
   ],
   "source": [
    "ex = tq.interface.Executor(cer_circuits, backend, filename=F\"../devices/{backend.name}/{id}/reexecuted_circuits.tq\", n_shots=10000, max_submissions=100)"
   ]
  },
  {
   "cell_type": "code",
   "execution_count": null,
   "metadata": {},
   "outputs": [],
   "source": []
  }
 ],
 "metadata": {
  "kernelspec": {
   "display_name": "Python-3-8-2023",
   "language": "python",
   "name": "python3"
  },
  "language_info": {
   "codemirror_mode": {
    "name": "ipython",
    "version": 3
   },
   "file_extension": ".py",
   "mimetype": "text/x-python",
   "name": "python",
   "nbconvert_exporter": "python",
   "pygments_lexer": "ipython3",
   "version": "3.8.16"
  }
 },
 "nbformat": 4,
 "nbformat_minor": 2
}
